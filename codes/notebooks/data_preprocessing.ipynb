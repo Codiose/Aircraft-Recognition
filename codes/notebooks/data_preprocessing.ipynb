{
 "cells": [
  {
   "cell_type": "markdown",
   "metadata": {},
   "source": [
    "IMPORTS"
   ]
  },
  {
   "cell_type": "code",
   "execution_count": 5,
   "metadata": {},
   "outputs": [],
   "source": [
    "#import cv2\n",
    "import matplotlib.pyplot as plt\n",
    "import numpy as np\n",
    "import matplotlib.image as mpimg\n",
    "import shutil\n",
    "import os\n",
    "import re\n",
    "import pandas as pd"
   ]
  },
  {
   "cell_type": "code",
   "execution_count": 90,
   "metadata": {},
   "outputs": [],
   "source": [
    "def copy_files(src_dir, dest_dir, files):\n",
    "\n",
    "    i = 0\n",
    "\n",
    "    for filename in files:\n",
    "\n",
    "        source_file = os.path.join(src_dir, filename)\n",
    "        shutil.copy(source_file, dest_dir)\n",
    "        print(filename)\n",
    "        i += 1\n",
    "        print(i)"
   ]
  },
  {
   "cell_type": "code",
   "execution_count": 84,
   "metadata": {},
   "outputs": [],
   "source": [
    "base_dir = \"/Users/aliou/Downloads/huge_projects/aircraft_reco/\""
   ]
  },
  {
   "cell_type": "code",
   "execution_count": 85,
   "metadata": {},
   "outputs": [],
   "source": [
    "source_dir = \"/Users/aliou/Downloads/huge_projects/aircraft_reco/data/images\""
   ]
  },
  {
   "cell_type": "markdown",
   "metadata": {},
   "source": [
    "Copy Boeing 737 files"
   ]
  },
  {
   "cell_type": "code",
   "execution_count": 28,
   "metadata": {},
   "outputs": [],
   "source": [
    "boeing_737_list = ['0227058.jpg',\n",
    "'0950275.jpg',\n",
    "'0114122.jpg',\n",
    "'1754503.jpg',\n",
    "'0127648.jpg',\n",
    "'0225218.jpg',\n",
    "'1713238.jpg',\n",
    "'1295799.jpg',\n",
    "'1455998.jpg',\n",
    "'1102089.jpg',\n",
    "'0067619.jpg',\n",
    "'0713752.jpg',\n",
    "'1361876.jpg',\n",
    "'0704268.jpg',\n",
    "'0494478.jpg',\n",
    "'1398436.jpg',\n",
    "'0037512.jpg',\n",
    "'0698787.jpg',\n",
    "'0875303.jpg',\n",
    "'1831096.jpg',\n",
    "'1565290.jpg',\n",
    "'1297843.jpg',\n",
    "'0694480.jpg',\n",
    "'2054409.jpg',\n",
    "'1860176.jpg',\n",
    "'0075050.jpg',\n",
    "'1110805.jpg',\n",
    "'0702845.jpg',\n",
    "'1471735.jpg',\n",
    "'1395798.jpg',\n",
    "'0880593.jpg',\n",
    "'0062679.jpg',\n",
    "'0198440.jpg',\n",
    "'1258401.jpg',\n",
    "'0448049.jpg',\n",
    "'0357873.jpg',\n",
    "'1196360.jpg',\n",
    "'0218033.jpg',\n",
    "'0395652.jpg',\n",
    "'1320676.jpg',\n",
    "'1100234.jpg',\n",
    "'2067870.jpg',\n",
    "'0681541.jpg',\n",
    "'0133440.jpg',\n",
    "'0218801.jpg',\n",
    "'1298958.jpg',\n",
    "'0746112.jpg',\n",
    "'0953559.jpg',\n",
    "'0545210.jpg',\n",
    "'1043473.jpg',\n",
    "'0894189.jpg',\n",
    "'0447745.jpg',\n",
    "'1682001.jpg',\n",
    "'0522856.jpg',\n",
    "'1456004.jpg',\n",
    "'0460770.jpg',\n",
    "'1115297.jpg',\n",
    "'0653804.jpg',\n",
    "'2221342.jpg',\n",
    "'1363673.jpg',\n",
    "'1352205.jpg',\n",
    "'0882609.jpg',\n",
    "'1446516.jpg',\n",
    "'1615914.jpg',\n",
    "'1958758.jpg',\n",
    "'1810855.jpg',\n",
    "'2126017.jpg',\n",
    "'1891967.jpg',\n",
    "'0076843.jpg',\n",
    "'1119094.jpg',\n",
    "'1606542.jpg',\n",
    "'0923504.jpg',\n",
    "'1080160.jpg',\n",
    "'0979665.jpg',\n",
    "'1483195.jpg',\n",
    "'2217839.jpg',\n",
    "'0075752.jpg',\n",
    "'0807961.jpg',\n",
    "'0195013.jpg',\n",
    "'0682201.jpg',\n",
    "'1163484.jpg',\n",
    "'0063284.jpg',\n",
    "'1506226.jpg',\n",
    "'0973082.jpg',\n",
    "'0176136.jpg',\n",
    "'1163792.jpg',\n",
    "'0237107.jpg',\n",
    "'0523207.jpg',\n",
    "'2007890.jpg',\n",
    "'0066410.jpg',\n",
    "'0558343.jpg',\n",
    "'0218042.jpg',\n",
    "'1382601.jpg',\n",
    "'0482804.jpg',\n",
    "'1115400.jpg',\n",
    "'1696061.jpg',\n",
    "'1559372.jpg',\n",
    "'1879889.jpg',\n",
    "'1237623.jpg',\n",
    "'0851302.jpg']\n",
    "\n",
    "destination_dir = base_dir + \"final_data/train/Boeing_737\""
   ]
  },
  {
   "cell_type": "code",
   "execution_count": 20,
   "metadata": {},
   "outputs": [],
   "source": [
    "#copy_files(source_dir, destination_dir, boeing_737_list)"
   ]
  },
  {
   "cell_type": "markdown",
   "metadata": {},
   "source": [
    "Boeing 747"
   ]
  },
  {
   "cell_type": "code",
   "execution_count": 34,
   "metadata": {},
   "outputs": [],
   "source": [
    "boeing_747_list = []"
   ]
  },
  {
   "cell_type": "code",
   "execution_count": 4,
   "metadata": {},
   "outputs": [],
   "source": [
    "def make_plane_list(file, list):\n",
    "\n",
    "    with open(file) as f:\n",
    "\n",
    "        lines = f.readlines()\n",
    "        \n",
    "        for line in lines:\n",
    "            aircraft = string = re.sub(r\"\\s\", \"\", line)\n",
    "            list.append(aircraft + '.jpg')"
   ]
  },
  {
   "cell_type": "code",
   "execution_count": 38,
   "metadata": {},
   "outputs": [],
   "source": [
    "destination_dir = base_dir + \"final_data/train/Boeing_747\""
   ]
  },
  {
   "cell_type": "code",
   "execution_count": 40,
   "metadata": {},
   "outputs": [],
   "source": [
    "#copy_files(source_dir, destination_dir, boeing_747_list)"
   ]
  },
  {
   "cell_type": "markdown",
   "metadata": {},
   "source": [
    "Boeing 777"
   ]
  },
  {
   "cell_type": "code",
   "execution_count": 42,
   "metadata": {},
   "outputs": [],
   "source": [
    "boeing_777_list = []"
   ]
  },
  {
   "cell_type": "code",
   "execution_count": 45,
   "metadata": {},
   "outputs": [],
   "source": [
    "destination_dir = base_dir +  \"final_data/train/Boeing_777\""
   ]
  },
  {
   "cell_type": "code",
   "execution_count": 43,
   "metadata": {},
   "outputs": [],
   "source": [
    "make_plane_list('b_777.txt', boeing_777_list)"
   ]
  },
  {
   "cell_type": "code",
   "execution_count": 46,
   "metadata": {},
   "outputs": [],
   "source": [
    "#copy_files(source_dir, destination_dir, boeing_777_list)"
   ]
  },
  {
   "cell_type": "markdown",
   "metadata": {},
   "source": [
    "Airbus A320"
   ]
  },
  {
   "cell_type": "code",
   "execution_count": 47,
   "metadata": {},
   "outputs": [],
   "source": [
    "airbus_320_list = []\n",
    "destination_dir = base_dir + \"final_data/train/Airbus_320\""
   ]
  },
  {
   "cell_type": "code",
   "execution_count": 48,
   "metadata": {},
   "outputs": [],
   "source": [
    "make_plane_list('a_320.txt', airbus_320_list)"
   ]
  },
  {
   "cell_type": "code",
   "execution_count": 50,
   "metadata": {},
   "outputs": [],
   "source": [
    "#copy_files(source_dir, destination_dir, airbus_320_list)"
   ]
  },
  {
   "cell_type": "markdown",
   "metadata": {},
   "source": [
    "Airbus A330"
   ]
  },
  {
   "cell_type": "code",
   "execution_count": 51,
   "metadata": {},
   "outputs": [],
   "source": [
    "airbus_330_list = []\n",
    "destination_dir = base_dir + \"final_data/train/Airbus_330\""
   ]
  },
  {
   "cell_type": "code",
   "execution_count": 52,
   "metadata": {},
   "outputs": [],
   "source": [
    "make_plane_list('a_330.txt', airbus_330_list)"
   ]
  },
  {
   "cell_type": "code",
   "execution_count": 53,
   "metadata": {},
   "outputs": [],
   "source": [
    "#copy_files(source_dir, destination_dir, airbus_330_list)"
   ]
  },
  {
   "cell_type": "markdown",
   "metadata": {},
   "source": [
    "Airbus A340"
   ]
  },
  {
   "cell_type": "code",
   "execution_count": 54,
   "metadata": {},
   "outputs": [],
   "source": [
    "airbus_340_list = []\n",
    "destination_dir = base_dir + \"final_data/train/Airbus_340\""
   ]
  },
  {
   "cell_type": "code",
   "execution_count": 55,
   "metadata": {},
   "outputs": [],
   "source": [
    "make_plane_list('a_340.txt', airbus_340_list)"
   ]
  },
  {
   "cell_type": "code",
   "execution_count": 56,
   "metadata": {},
   "outputs": [],
   "source": [
    "#copy_files(source_dir, destination_dir, airbus_340_list)"
   ]
  },
  {
   "cell_type": "markdown",
   "metadata": {},
   "source": [
    "Airbus A380"
   ]
  },
  {
   "cell_type": "code",
   "execution_count": 57,
   "metadata": {},
   "outputs": [],
   "source": [
    "airbus_380_list = []\n",
    "destination_dir = base_dir + \"final_data/train/Airbus_380\""
   ]
  },
  {
   "cell_type": "code",
   "execution_count": 58,
   "metadata": {},
   "outputs": [],
   "source": [
    "make_plane_list('a_380.txt', airbus_380_list)"
   ]
  },
  {
   "cell_type": "code",
   "execution_count": 59,
   "metadata": {},
   "outputs": [],
   "source": [
    "#copy_files(source_dir, destination_dir, airbus_380_list)"
   ]
  },
  {
   "cell_type": "markdown",
   "metadata": {},
   "source": [
    "## Changing the datasets"
   ]
  },
  {
   "cell_type": "code",
   "execution_count": null,
   "metadata": {},
   "outputs": [],
   "source": []
  },
  {
   "cell_type": "code",
   "execution_count": 6,
   "metadata": {},
   "outputs": [],
   "source": [
    "boeing_767 = pd.read_csv('b_767.csv')"
   ]
  },
  {
   "cell_type": "code",
   "execution_count": 7,
   "metadata": {},
   "outputs": [
    {
     "data": {
      "text/html": [
       "<div>\n",
       "<style scoped>\n",
       "    .dataframe tbody tr th:only-of-type {\n",
       "        vertical-align: middle;\n",
       "    }\n",
       "\n",
       "    .dataframe tbody tr th {\n",
       "        vertical-align: top;\n",
       "    }\n",
       "\n",
       "    .dataframe thead th {\n",
       "        text-align: right;\n",
       "    }\n",
       "</style>\n",
       "<table border=\"1\" class=\"dataframe\">\n",
       "  <thead>\n",
       "    <tr style=\"text-align: right;\">\n",
       "      <th></th>\n",
       "      <th>image</th>\n",
       "      <th>company</th>\n",
       "      <th>model</th>\n",
       "    </tr>\n",
       "  </thead>\n",
       "  <tbody>\n",
       "    <tr>\n",
       "      <th>0</th>\n",
       "      <td>744907</td>\n",
       "      <td>Boeing</td>\n",
       "      <td>767</td>\n",
       "    </tr>\n",
       "    <tr>\n",
       "      <th>1</th>\n",
       "      <td>2026733</td>\n",
       "      <td>Boeing</td>\n",
       "      <td>767</td>\n",
       "    </tr>\n",
       "    <tr>\n",
       "      <th>2</th>\n",
       "      <td>1935709</td>\n",
       "      <td>Boeing</td>\n",
       "      <td>767</td>\n",
       "    </tr>\n",
       "    <tr>\n",
       "      <th>3</th>\n",
       "      <td>487319</td>\n",
       "      <td>Boeing</td>\n",
       "      <td>767</td>\n",
       "    </tr>\n",
       "    <tr>\n",
       "      <th>4</th>\n",
       "      <td>1798594</td>\n",
       "      <td>Boeing</td>\n",
       "      <td>767</td>\n",
       "    </tr>\n",
       "  </tbody>\n",
       "</table>\n",
       "</div>"
      ],
      "text/plain": [
       "     image company  model\n",
       "0   744907  Boeing    767\n",
       "1  2026733  Boeing    767\n",
       "2  1935709  Boeing    767\n",
       "3   487319  Boeing    767\n",
       "4  1798594  Boeing    767"
      ]
     },
     "execution_count": 7,
     "metadata": {},
     "output_type": "execute_result"
    }
   ],
   "source": [
    "boeing_767.head()"
   ]
  },
  {
   "cell_type": "code",
   "execution_count": 38,
   "metadata": {},
   "outputs": [],
   "source": [
    "list = [(str(img) + '.jpg') for img in boeing_767.image]\n",
    "boeing_767_list = []"
   ]
  },
  {
   "cell_type": "code",
   "execution_count": 41,
   "metadata": {},
   "outputs": [],
   "source": [
    "for img in list:\n",
    "    \n",
    "    if len(img) == 10:\n",
    "        new_n = '0' + img\n",
    "        boeing_767_list.append(new_n)\n",
    "    elif len(img) == 9:\n",
    "        new_n = '00' + img\n",
    "        boeing_767_list.append(new_n)\n",
    "    else:\n",
    "        boeing_767_list.append(img)"
   ]
  },
  {
   "cell_type": "code",
   "execution_count": 42,
   "metadata": {},
   "outputs": [
    {
     "name": "stdout",
     "output_type": "stream",
     "text": [
      "100\n"
     ]
    }
   ],
   "source": [
    "print(len(boeing_767_list))"
   ]
  },
  {
   "cell_type": "code",
   "execution_count": 43,
   "metadata": {},
   "outputs": [
    {
     "name": "stdout",
     "output_type": "stream",
     "text": [
      "Done...\n",
      "Done...\n",
      "Done...\n",
      "Done...\n",
      "Done...\n",
      "Done...\n",
      "Done...\n",
      "Done...\n",
      "Done...\n",
      "Done...\n",
      "Done...\n",
      "Done...\n",
      "Done...\n",
      "Done...\n",
      "Done...\n",
      "Done...\n",
      "Done...\n",
      "Done...\n",
      "Done...\n",
      "Done...\n",
      "Done...\n",
      "Done...\n",
      "Done...\n",
      "Done...\n",
      "Done...\n",
      "Done...\n",
      "Done...\n",
      "Done...\n",
      "Done...\n",
      "Done...\n",
      "Done...\n",
      "Done...\n",
      "Done...\n",
      "Done...\n",
      "Done...\n",
      "Done...\n",
      "Done...\n",
      "Done...\n",
      "Done...\n",
      "Done...\n",
      "Done...\n",
      "Done...\n",
      "Done...\n",
      "Done...\n",
      "Done...\n",
      "Done...\n",
      "Done...\n",
      "Done...\n",
      "Done...\n",
      "Done...\n",
      "Done...\n",
      "Done...\n",
      "Done...\n",
      "Done...\n",
      "Done...\n",
      "Done...\n",
      "Done...\n",
      "Done...\n",
      "Done...\n",
      "Done...\n",
      "Done...\n",
      "Done...\n",
      "Done...\n",
      "Done...\n",
      "Done...\n",
      "Done...\n",
      "Done...\n",
      "Done...\n",
      "Done...\n",
      "Done...\n",
      "Done...\n",
      "Done...\n",
      "Done...\n",
      "Done...\n",
      "Done...\n",
      "Done...\n",
      "Done...\n",
      "Done...\n",
      "Done...\n",
      "Done...\n",
      "Done...\n",
      "Done...\n",
      "Done...\n",
      "Done...\n",
      "Done...\n",
      "Done...\n",
      "Done...\n",
      "Done...\n",
      "Done...\n",
      "Done...\n"
     ]
    }
   ],
   "source": [
    "# Make trainning set\n",
    "#copy_files(src_dir = source_dir, dest_dir = base_dir + \"final_data/train/Boeing_767\", files = boeing_767_list[0:90])"
   ]
  },
  {
   "cell_type": "code",
   "execution_count": 46,
   "metadata": {},
   "outputs": [
    {
     "data": {
      "text/plain": [
       "['0981955.jpg',\n",
       " '0087248.jpg',\n",
       " '0940358.jpg',\n",
       " '2259027.jpg',\n",
       " '2021838.jpg',\n",
       " '0905077.jpg',\n",
       " '0867007.jpg',\n",
       " '2054456.jpg',\n",
       " '2209439.jpg',\n",
       " '0097107.jpg']"
      ]
     },
     "execution_count": 46,
     "metadata": {},
     "output_type": "execute_result"
    }
   ],
   "source": [
    "boeing_767_list[90:]"
   ]
  },
  {
   "cell_type": "code",
   "execution_count": 47,
   "metadata": {},
   "outputs": [
    {
     "name": "stdout",
     "output_type": "stream",
     "text": [
      "Done...\n",
      "Done...\n",
      "Done...\n",
      "Done...\n",
      "Done...\n",
      "Done...\n",
      "Done...\n",
      "Done...\n",
      "Done...\n",
      "Done...\n"
     ]
    }
   ],
   "source": [
    "# Make test set\n",
    "#copy_files(src_dir = source_dir, dest_dir = base_dir + \"final_data/test/Boeing_767\", files = boeing_767_list[90:])"
   ]
  },
  {
   "cell_type": "code",
   "execution_count": 92,
   "metadata": {},
   "outputs": [
    {
     "data": {
      "text/html": [
       "<div>\n",
       "<style scoped>\n",
       "    .dataframe tbody tr th:only-of-type {\n",
       "        vertical-align: middle;\n",
       "    }\n",
       "\n",
       "    .dataframe tbody tr th {\n",
       "        vertical-align: top;\n",
       "    }\n",
       "\n",
       "    .dataframe thead th {\n",
       "        text-align: right;\n",
       "    }\n",
       "</style>\n",
       "<table border=\"1\" class=\"dataframe\">\n",
       "  <thead>\n",
       "    <tr style=\"text-align: right;\">\n",
       "      <th></th>\n",
       "      <th>image</th>\n",
       "      <th>company</th>\n",
       "      <th>model</th>\n",
       "    </tr>\n",
       "  </thead>\n",
       "  <tbody>\n",
       "    <tr>\n",
       "      <th>0</th>\n",
       "      <td>1591312</td>\n",
       "      <td>Embraer</td>\n",
       "      <td>E-Jet</td>\n",
       "    </tr>\n",
       "    <tr>\n",
       "      <th>1</th>\n",
       "      <td>1634373</td>\n",
       "      <td>Embraer</td>\n",
       "      <td>E-Jet</td>\n",
       "    </tr>\n",
       "    <tr>\n",
       "      <th>2</th>\n",
       "      <td>1579853</td>\n",
       "      <td>Embraer</td>\n",
       "      <td>E-Jet</td>\n",
       "    </tr>\n",
       "    <tr>\n",
       "      <th>3</th>\n",
       "      <td>1461218</td>\n",
       "      <td>Embraer</td>\n",
       "      <td>E-Jet</td>\n",
       "    </tr>\n",
       "    <tr>\n",
       "      <th>4</th>\n",
       "      <td>998786</td>\n",
       "      <td>Embraer</td>\n",
       "      <td>E-Jet</td>\n",
       "    </tr>\n",
       "  </tbody>\n",
       "</table>\n",
       "</div>"
      ],
      "text/plain": [
       "     image  company  model\n",
       "0  1591312  Embraer  E-Jet\n",
       "1  1634373  Embraer  E-Jet\n",
       "2  1579853  Embraer  E-Jet\n",
       "3  1461218  Embraer  E-Jet\n",
       "4   998786  Embraer  E-Jet"
      ]
     },
     "execution_count": 92,
     "metadata": {},
     "output_type": "execute_result"
    }
   ],
   "source": [
    "embraer_ejet = pd.read_csv('embraer_e_jet.csv')\n",
    "embraer_ejet.head()"
   ]
  },
  {
   "cell_type": "code",
   "execution_count": 93,
   "metadata": {},
   "outputs": [],
   "source": [
    "emb_list = [(str(img) + '.jpg') for img in embraer_ejet.image]\n",
    "embraer_ejet_list = []"
   ]
  },
  {
   "cell_type": "code",
   "execution_count": 94,
   "metadata": {},
   "outputs": [
    {
     "data": {
      "text/plain": [
       "['1591312.jpg',\n",
       " '1634373.jpg',\n",
       " '1579853.jpg',\n",
       " '1461218.jpg',\n",
       " '998786.jpg',\n",
       " '2107061.jpg',\n",
       " '1943476.jpg',\n",
       " '2190977.jpg',\n",
       " '1444748.jpg',\n",
       " '1312536.jpg',\n",
       " '381609.jpg',\n",
       " '1296201.jpg',\n",
       " '1879121.jpg',\n",
       " '1901160.jpg',\n",
       " '1259554.jpg',\n",
       " '1966298.jpg',\n",
       " '1008903.jpg',\n",
       " '1714236.jpg',\n",
       " '1602628.jpg',\n",
       " '1676582.jpg',\n",
       " '661734.jpg',\n",
       " '2117298.jpg',\n",
       " '713593.jpg',\n",
       " '944994.jpg',\n",
       " '642071.jpg',\n",
       " '1169979.jpg',\n",
       " '962643.jpg',\n",
       " '1900937.jpg',\n",
       " '1375264.jpg',\n",
       " '717995.jpg',\n",
       " '1953630.jpg',\n",
       " '2063913.jpg',\n",
       " '972415.jpg',\n",
       " '2241970.jpg',\n",
       " '1644649.jpg',\n",
       " '1088603.jpg',\n",
       " '1776825.jpg',\n",
       " '2057962.jpg',\n",
       " '1926205.jpg',\n",
       " '2220612.jpg',\n",
       " '1647313.jpg',\n",
       " '1826956.jpg',\n",
       " '1364919.jpg',\n",
       " '2158858.jpg',\n",
       " '1529275.jpg',\n",
       " '1943358.jpg',\n",
       " '1535181.jpg',\n",
       " '2056248.jpg',\n",
       " '1860580.jpg',\n",
       " '1714026.jpg',\n",
       " '2264828.jpg',\n",
       " '1351213.jpg',\n",
       " '2113949.jpg',\n",
       " '1458030.jpg',\n",
       " '1806208.jpg',\n",
       " '1510217.jpg',\n",
       " '2200427.jpg',\n",
       " '1086833.jpg',\n",
       " '2182128.jpg',\n",
       " '1999292.jpg',\n",
       " '1586117.jpg',\n",
       " '2152231.jpg',\n",
       " '2187801.jpg',\n",
       " '1545068.jpg',\n",
       " '1759298.jpg',\n",
       " '2134406.jpg',\n",
       " '1018933.jpg',\n",
       " '1520357.jpg',\n",
       " '2137129.jpg',\n",
       " '1549035.jpg',\n",
       " '1981537.jpg',\n",
       " '2044260.jpg',\n",
       " '2169104.jpg',\n",
       " '1922722.jpg',\n",
       " '1594758.jpg',\n",
       " '2195128.jpg',\n",
       " '1469699.jpg',\n",
       " '1801182.jpg',\n",
       " '1659671.jpg',\n",
       " '1841489.jpg',\n",
       " '2253635.jpg',\n",
       " '2114112.jpg',\n",
       " '2060949.jpg',\n",
       " '1420016.jpg',\n",
       " '1736148.jpg',\n",
       " '1788034.jpg',\n",
       " '2209714.jpg',\n",
       " '939519.jpg',\n",
       " '1971194.jpg',\n",
       " '1330195.jpg',\n",
       " '1796759.jpg',\n",
       " '2156795.jpg',\n",
       " '1679201.jpg',\n",
       " '1398982.jpg',\n",
       " '1367016.jpg',\n",
       " '2259453.jpg',\n",
       " '2094472.jpg',\n",
       " '1912564.jpg',\n",
       " '1917223.jpg',\n",
       " '1687909.jpg']"
      ]
     },
     "execution_count": 94,
     "metadata": {},
     "output_type": "execute_result"
    }
   ],
   "source": [
    "emb_list"
   ]
  },
  {
   "cell_type": "code",
   "execution_count": 95,
   "metadata": {},
   "outputs": [],
   "source": [
    "for img in emb_list:\n",
    "    if len(img) == 10:\n",
    "        new_n = '0' + img\n",
    "        embraer_ejet_list.append(new_n)\n",
    "    elif len(img) == 9:\n",
    "        new_n = '00' + img\n",
    "        embraer_ejet_list.append(new_n)\n",
    "    else:\n",
    "        embraer_ejet_list.append(img)\n"
   ]
  },
  {
   "cell_type": "code",
   "execution_count": 96,
   "metadata": {},
   "outputs": [
    {
     "name": "stdout",
     "output_type": "stream",
     "text": [
      "100\n"
     ]
    }
   ],
   "source": [
    "print(len(embraer_ejet_list))"
   ]
  },
  {
   "cell_type": "code",
   "execution_count": 97,
   "metadata": {},
   "outputs": [
    {
     "name": "stdout",
     "output_type": "stream",
     "text": [
      "1591312.jpg\n",
      "1\n",
      "1634373.jpg\n",
      "2\n",
      "1579853.jpg\n",
      "3\n",
      "1461218.jpg\n",
      "4\n",
      "0998786.jpg\n",
      "5\n",
      "2107061.jpg\n",
      "6\n",
      "1943476.jpg\n",
      "7\n",
      "2190977.jpg\n",
      "8\n",
      "1444748.jpg\n",
      "9\n",
      "1312536.jpg\n",
      "10\n",
      "0381609.jpg\n",
      "11\n",
      "1296201.jpg\n",
      "12\n",
      "1879121.jpg\n",
      "13\n",
      "1901160.jpg\n",
      "14\n",
      "1259554.jpg\n",
      "15\n",
      "1966298.jpg\n",
      "16\n",
      "1008903.jpg\n",
      "17\n",
      "1714236.jpg\n",
      "18\n",
      "1602628.jpg\n",
      "19\n",
      "1676582.jpg\n",
      "20\n",
      "0661734.jpg\n",
      "21\n",
      "2117298.jpg\n",
      "22\n",
      "0713593.jpg\n",
      "23\n",
      "0944994.jpg\n",
      "24\n",
      "0642071.jpg\n",
      "25\n",
      "1169979.jpg\n",
      "26\n",
      "0962643.jpg\n",
      "27\n",
      "1900937.jpg\n",
      "28\n",
      "1375264.jpg\n",
      "29\n",
      "0717995.jpg\n",
      "30\n",
      "1953630.jpg\n",
      "31\n",
      "2063913.jpg\n",
      "32\n",
      "0972415.jpg\n",
      "33\n",
      "2241970.jpg\n",
      "34\n",
      "1644649.jpg\n",
      "35\n",
      "1088603.jpg\n",
      "36\n",
      "1776825.jpg\n",
      "37\n",
      "2057962.jpg\n",
      "38\n",
      "1926205.jpg\n",
      "39\n",
      "2220612.jpg\n",
      "40\n",
      "1647313.jpg\n",
      "41\n",
      "1826956.jpg\n",
      "42\n",
      "1364919.jpg\n",
      "43\n",
      "2158858.jpg\n",
      "44\n",
      "1529275.jpg\n",
      "45\n",
      "1943358.jpg\n",
      "46\n",
      "1535181.jpg\n",
      "47\n",
      "2056248.jpg\n",
      "48\n",
      "1860580.jpg\n",
      "49\n",
      "1714026.jpg\n",
      "50\n",
      "2264828.jpg\n",
      "51\n",
      "1351213.jpg\n",
      "52\n",
      "2113949.jpg\n",
      "53\n",
      "1458030.jpg\n",
      "54\n",
      "1806208.jpg\n",
      "55\n",
      "1510217.jpg\n",
      "56\n",
      "2200427.jpg\n",
      "57\n",
      "1086833.jpg\n",
      "58\n",
      "2182128.jpg\n",
      "59\n",
      "1999292.jpg\n",
      "60\n",
      "1586117.jpg\n",
      "61\n",
      "2152231.jpg\n",
      "62\n",
      "2187801.jpg\n",
      "63\n",
      "1545068.jpg\n",
      "64\n",
      "1759298.jpg\n",
      "65\n",
      "2134406.jpg\n",
      "66\n",
      "1018933.jpg\n",
      "67\n",
      "1520357.jpg\n",
      "68\n",
      "2137129.jpg\n",
      "69\n",
      "1549035.jpg\n",
      "70\n",
      "1981537.jpg\n",
      "71\n",
      "2044260.jpg\n",
      "72\n",
      "2169104.jpg\n",
      "73\n",
      "1922722.jpg\n",
      "74\n",
      "1594758.jpg\n",
      "75\n",
      "2195128.jpg\n",
      "76\n",
      "1469699.jpg\n",
      "77\n",
      "1801182.jpg\n",
      "78\n",
      "1659671.jpg\n",
      "79\n",
      "1841489.jpg\n",
      "80\n",
      "2253635.jpg\n",
      "81\n",
      "2114112.jpg\n",
      "82\n",
      "2060949.jpg\n",
      "83\n",
      "1420016.jpg\n",
      "84\n",
      "1736148.jpg\n",
      "85\n",
      "1788034.jpg\n",
      "86\n",
      "2209714.jpg\n",
      "87\n",
      "0939519.jpg\n",
      "88\n",
      "1971194.jpg\n",
      "89\n",
      "1330195.jpg\n",
      "90\n"
     ]
    }
   ],
   "source": [
    "# Make trainning set\n",
    "#copy_files(src_dir = source_dir, dest_dir = base_dir + \"final_data/train/Embraer_ejet\", files = embraer_ejet_list[0:90])"
   ]
  },
  {
   "cell_type": "code",
   "execution_count": 98,
   "metadata": {},
   "outputs": [
    {
     "name": "stdout",
     "output_type": "stream",
     "text": [
      "1796759.jpg\n",
      "1\n",
      "2156795.jpg\n",
      "2\n",
      "1679201.jpg\n",
      "3\n",
      "1398982.jpg\n",
      "4\n",
      "1367016.jpg\n",
      "5\n",
      "2259453.jpg\n",
      "6\n",
      "2094472.jpg\n",
      "7\n",
      "1912564.jpg\n",
      "8\n",
      "1917223.jpg\n",
      "9\n",
      "1687909.jpg\n",
      "10\n"
     ]
    }
   ],
   "source": [
    "# Make test set\n",
    "copy_files(src_dir = source_dir, dest_dir = base_dir + \"final_data/test/Embraer_ejet\", files = embraer_ejet_list[90:])"
   ]
  },
  {
   "cell_type": "code",
   "execution_count": 99,
   "metadata": {},
   "outputs": [
    {
     "data": {
      "text/html": [
       "<div>\n",
       "<style scoped>\n",
       "    .dataframe tbody tr th:only-of-type {\n",
       "        vertical-align: middle;\n",
       "    }\n",
       "\n",
       "    .dataframe tbody tr th {\n",
       "        vertical-align: top;\n",
       "    }\n",
       "\n",
       "    .dataframe thead th {\n",
       "        text-align: right;\n",
       "    }\n",
       "</style>\n",
       "<table border=\"1\" class=\"dataframe\">\n",
       "  <thead>\n",
       "    <tr style=\"text-align: right;\">\n",
       "      <th></th>\n",
       "      <th>image</th>\n",
       "      <th>company</th>\n",
       "      <th>model</th>\n",
       "    </tr>\n",
       "  </thead>\n",
       "  <tbody>\n",
       "    <tr>\n",
       "      <th>0</th>\n",
       "      <td>1591312</td>\n",
       "      <td>Embraer</td>\n",
       "      <td>E-Jet</td>\n",
       "    </tr>\n",
       "    <tr>\n",
       "      <th>1</th>\n",
       "      <td>1634373</td>\n",
       "      <td>Embraer</td>\n",
       "      <td>E-Jet</td>\n",
       "    </tr>\n",
       "    <tr>\n",
       "      <th>2</th>\n",
       "      <td>1579853</td>\n",
       "      <td>Embraer</td>\n",
       "      <td>E-Jet</td>\n",
       "    </tr>\n",
       "    <tr>\n",
       "      <th>3</th>\n",
       "      <td>1461218</td>\n",
       "      <td>Embraer</td>\n",
       "      <td>E-Jet</td>\n",
       "    </tr>\n",
       "    <tr>\n",
       "      <th>4</th>\n",
       "      <td>998786</td>\n",
       "      <td>Embraer</td>\n",
       "      <td>E-Jet</td>\n",
       "    </tr>\n",
       "  </tbody>\n",
       "</table>\n",
       "</div>"
      ],
      "text/plain": [
       "     image  company  model\n",
       "0  1591312  Embraer  E-Jet\n",
       "1  1634373  Embraer  E-Jet\n",
       "2  1579853  Embraer  E-Jet\n",
       "3  1461218  Embraer  E-Jet\n",
       "4   998786  Embraer  E-Jet"
      ]
     },
     "execution_count": 99,
     "metadata": {},
     "output_type": "execute_result"
    }
   ],
   "source": [
    "crj_200 = pd.read_csv('embraer_e_jet.csv')\n",
    "crj_200.head()"
   ]
  },
  {
   "cell_type": "code",
   "execution_count": 100,
   "metadata": {},
   "outputs": [],
   "source": [
    "crj_list = [(str(img) + '.jpg') for img in embraer_ejet.image]\n",
    "crj_200_list = []"
   ]
  },
  {
   "cell_type": "code",
   "execution_count": 102,
   "metadata": {},
   "outputs": [],
   "source": [
    "for img in  crj_list:\n",
    "    if len(img) == 10:\n",
    "        new_n = '0' + img\n",
    "        crj_200_list.append(new_n)\n",
    "    elif len(img) == 9:\n",
    "        new_n = '00' + img\n",
    "        crj_200_list.append(new_n)\n",
    "    else:\n",
    "        crj_200_list.append(img)"
   ]
  },
  {
   "cell_type": "code",
   "execution_count": 104,
   "metadata": {},
   "outputs": [
    {
     "data": {
      "text/plain": [
       "100"
      ]
     },
     "execution_count": 104,
     "metadata": {},
     "output_type": "execute_result"
    }
   ],
   "source": [
    "len(crj_200_list)"
   ]
  },
  {
   "cell_type": "code",
   "execution_count": 105,
   "metadata": {},
   "outputs": [
    {
     "name": "stdout",
     "output_type": "stream",
     "text": [
      "1591312.jpg\n",
      "1\n",
      "1634373.jpg\n",
      "2\n",
      "1579853.jpg\n",
      "3\n",
      "1461218.jpg\n",
      "4\n",
      "0998786.jpg\n",
      "5\n",
      "2107061.jpg\n",
      "6\n",
      "1943476.jpg\n",
      "7\n",
      "2190977.jpg\n",
      "8\n",
      "1444748.jpg\n",
      "9\n",
      "1312536.jpg\n",
      "10\n",
      "0381609.jpg\n",
      "11\n",
      "1296201.jpg\n",
      "12\n",
      "1879121.jpg\n",
      "13\n",
      "1901160.jpg\n",
      "14\n",
      "1259554.jpg\n",
      "15\n",
      "1966298.jpg\n",
      "16\n",
      "1008903.jpg\n",
      "17\n",
      "1714236.jpg\n",
      "18\n",
      "1602628.jpg\n",
      "19\n",
      "1676582.jpg\n",
      "20\n",
      "0661734.jpg\n",
      "21\n",
      "2117298.jpg\n",
      "22\n",
      "0713593.jpg\n",
      "23\n",
      "0944994.jpg\n",
      "24\n",
      "0642071.jpg\n",
      "25\n",
      "1169979.jpg\n",
      "26\n",
      "0962643.jpg\n",
      "27\n",
      "1900937.jpg\n",
      "28\n",
      "1375264.jpg\n",
      "29\n",
      "0717995.jpg\n",
      "30\n",
      "1953630.jpg\n",
      "31\n",
      "2063913.jpg\n",
      "32\n",
      "0972415.jpg\n",
      "33\n",
      "2241970.jpg\n",
      "34\n",
      "1644649.jpg\n",
      "35\n",
      "1088603.jpg\n",
      "36\n",
      "1776825.jpg\n",
      "37\n",
      "2057962.jpg\n",
      "38\n",
      "1926205.jpg\n",
      "39\n",
      "2220612.jpg\n",
      "40\n",
      "1647313.jpg\n",
      "41\n",
      "1826956.jpg\n",
      "42\n",
      "1364919.jpg\n",
      "43\n",
      "2158858.jpg\n",
      "44\n",
      "1529275.jpg\n",
      "45\n",
      "1943358.jpg\n",
      "46\n",
      "1535181.jpg\n",
      "47\n",
      "2056248.jpg\n",
      "48\n",
      "1860580.jpg\n",
      "49\n",
      "1714026.jpg\n",
      "50\n",
      "2264828.jpg\n",
      "51\n",
      "1351213.jpg\n",
      "52\n",
      "2113949.jpg\n",
      "53\n",
      "1458030.jpg\n",
      "54\n",
      "1806208.jpg\n",
      "55\n",
      "1510217.jpg\n",
      "56\n",
      "2200427.jpg\n",
      "57\n",
      "1086833.jpg\n",
      "58\n",
      "2182128.jpg\n",
      "59\n",
      "1999292.jpg\n",
      "60\n",
      "1586117.jpg\n",
      "61\n",
      "2152231.jpg\n",
      "62\n",
      "2187801.jpg\n",
      "63\n",
      "1545068.jpg\n",
      "64\n",
      "1759298.jpg\n",
      "65\n",
      "2134406.jpg\n",
      "66\n",
      "1018933.jpg\n",
      "67\n",
      "1520357.jpg\n",
      "68\n",
      "2137129.jpg\n",
      "69\n",
      "1549035.jpg\n",
      "70\n",
      "1981537.jpg\n",
      "71\n",
      "2044260.jpg\n",
      "72\n",
      "2169104.jpg\n",
      "73\n",
      "1922722.jpg\n",
      "74\n",
      "1594758.jpg\n",
      "75\n",
      "2195128.jpg\n",
      "76\n",
      "1469699.jpg\n",
      "77\n",
      "1801182.jpg\n",
      "78\n",
      "1659671.jpg\n",
      "79\n",
      "1841489.jpg\n",
      "80\n",
      "2253635.jpg\n",
      "81\n",
      "2114112.jpg\n",
      "82\n",
      "2060949.jpg\n",
      "83\n",
      "1420016.jpg\n",
      "84\n",
      "1736148.jpg\n",
      "85\n",
      "1788034.jpg\n",
      "86\n",
      "2209714.jpg\n",
      "87\n",
      "0939519.jpg\n",
      "88\n",
      "1971194.jpg\n",
      "89\n",
      "1330195.jpg\n",
      "90\n"
     ]
    }
   ],
   "source": [
    "# Make trainning set\n",
    "copy_files(src_dir = source_dir, dest_dir = base_dir + \"final_data/train/Crj_200\", files = crj_200_list[0:90])"
   ]
  },
  {
   "cell_type": "code",
   "execution_count": 106,
   "metadata": {},
   "outputs": [
    {
     "name": "stdout",
     "output_type": "stream",
     "text": [
      "1796759.jpg\n",
      "1\n",
      "2156795.jpg\n",
      "2\n",
      "1679201.jpg\n",
      "3\n",
      "1398982.jpg\n",
      "4\n",
      "1367016.jpg\n",
      "5\n",
      "2259453.jpg\n",
      "6\n",
      "2094472.jpg\n",
      "7\n",
      "1912564.jpg\n",
      "8\n",
      "1917223.jpg\n",
      "9\n",
      "1687909.jpg\n",
      "10\n"
     ]
    }
   ],
   "source": [
    "# Make test set\n",
    "copy_files(src_dir = source_dir, dest_dir = base_dir + \"final_data/test/Crj_200\", files = crj_200_list[90:])"
   ]
  },
  {
   "cell_type": "markdown",
   "metadata": {},
   "source": [
    "## Rename files to add classes"
   ]
  },
  {
   "cell_type": "code",
   "execution_count": 120,
   "metadata": {},
   "outputs": [],
   "source": [
    "def rename_files(path, new_n):\n",
    "\n",
    "    # Get the list of files in the folder\n",
    "    files = os.listdir(path)\n",
    "\n",
    "    # Iterate through each file and rename it\n",
    "    for i, filename in enumerate(files):\n",
    "        \n",
    "        if filename != '.DS_Store':\n",
    "\n",
    "            # Build the new filename using the specified prefix and index\n",
    "            new_filename =  new_n + '_' + filename\n",
    "            \n",
    "            # Construct the full paths for the old and new filenames\n",
    "            old_path = os.path.join(path, filename)\n",
    "            new_path = os.path.join(path, new_filename)\n",
    "\n",
    "            # Rename the file\n",
    "            os.rename(old_path, new_path)"
   ]
  },
  {
   "cell_type": "markdown",
   "metadata": {},
   "source": [
    "Embraer ejet"
   ]
  },
  {
   "cell_type": "code",
   "execution_count": 116,
   "metadata": {},
   "outputs": [],
   "source": [
    "rename_files('/Users/aliou/Downloads/huge_projects/aircraft_reco/final_data/test/Embraer_ejet', 'ejet')"
   ]
  },
  {
   "cell_type": "code",
   "execution_count": 117,
   "metadata": {},
   "outputs": [],
   "source": [
    "rename_files('/Users/aliou/Downloads/huge_projects/aircraft_reco/final_data/train/Embraer_ejet', 'ejet')"
   ]
  },
  {
   "cell_type": "markdown",
   "metadata": {},
   "source": [
    "A320"
   ]
  },
  {
   "cell_type": "code",
   "execution_count": 118,
   "metadata": {},
   "outputs": [],
   "source": [
    "rename_files('/Users/aliou/Downloads/huge_projects/aircraft_reco/final_data/test/Airbus_320', 'a320')\n",
    "rename_files('/Users/aliou/Downloads/huge_projects/aircraft_reco/final_data/train/Airbus_320', 'a320')"
   ]
  },
  {
   "cell_type": "markdown",
   "metadata": {},
   "source": [
    "A340"
   ]
  },
  {
   "cell_type": "code",
   "execution_count": 119,
   "metadata": {},
   "outputs": [],
   "source": [
    "rename_files('/Users/aliou/Downloads/huge_projects/aircraft_reco/final_data/test/Airbus_340', 'a340')\n",
    "rename_files('/Users/aliou/Downloads/huge_projects/aircraft_reco/final_data/train/Airbus_340', 'a340')"
   ]
  },
  {
   "cell_type": "markdown",
   "metadata": {},
   "source": [
    "A380"
   ]
  },
  {
   "cell_type": "code",
   "execution_count": 121,
   "metadata": {},
   "outputs": [],
   "source": [
    "rename_files('/Users/aliou/Downloads/huge_projects/aircraft_reco/final_data/test/Airbus_380', 'a380')\n",
    "rename_files('/Users/aliou/Downloads/huge_projects/aircraft_reco/final_data/train/Airbus_380', 'a380')"
   ]
  },
  {
   "cell_type": "markdown",
   "metadata": {},
   "source": [
    "B737"
   ]
  },
  {
   "cell_type": "code",
   "execution_count": 122,
   "metadata": {},
   "outputs": [],
   "source": [
    "rename_files('/Users/aliou/Downloads/huge_projects/aircraft_reco/final_data/test/Boeing_737', 'b737')\n",
    "rename_files('/Users/aliou/Downloads/huge_projects/aircraft_reco/final_data/train/Boeing_737', 'b737')"
   ]
  },
  {
   "cell_type": "markdown",
   "metadata": {},
   "source": [
    "B747"
   ]
  },
  {
   "cell_type": "code",
   "execution_count": 123,
   "metadata": {},
   "outputs": [],
   "source": [
    "rename_files('/Users/aliou/Downloads/huge_projects/aircraft_reco/final_data/test/Boeing_747', 'b747')\n",
    "rename_files('/Users/aliou/Downloads/huge_projects/aircraft_reco/final_data/train/Boeing_747', 'b747')"
   ]
  },
  {
   "cell_type": "markdown",
   "metadata": {},
   "source": [
    "B767"
   ]
  },
  {
   "cell_type": "code",
   "execution_count": 124,
   "metadata": {},
   "outputs": [],
   "source": [
    "rename_files('/Users/aliou/Downloads/huge_projects/aircraft_reco/final_data/test/Boeing_767', 'b767')\n",
    "rename_files('/Users/aliou/Downloads/huge_projects/aircraft_reco/final_data/train/Boeing_767', 'b767')"
   ]
  }
 ],
 "metadata": {
  "kernelspec": {
   "display_name": "base",
   "language": "python",
   "name": "python3"
  },
  "language_info": {
   "codemirror_mode": {
    "name": "ipython",
    "version": 3
   },
   "file_extension": ".py",
   "mimetype": "text/x-python",
   "name": "python",
   "nbconvert_exporter": "python",
   "pygments_lexer": "ipython3",
   "version": "3.11.5"
  }
 },
 "nbformat": 4,
 "nbformat_minor": 2
}
