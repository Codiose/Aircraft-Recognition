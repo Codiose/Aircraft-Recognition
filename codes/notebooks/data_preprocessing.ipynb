{
 "cells": [
  {
   "cell_type": "markdown",
   "metadata": {},
   "source": [
    "IMPORTS"
   ]
  },
  {
   "cell_type": "code",
   "execution_count": 33,
   "metadata": {},
   "outputs": [],
   "source": [
    "#import cv2\n",
    "import matplotlib.pyplot as plt\n",
    "import numpy as np\n",
    "import matplotlib.image as mpimg\n",
    "import shutil\n",
    "import os\n",
    "import re"
   ]
  },
  {
   "cell_type": "code",
   "execution_count": 13,
   "metadata": {},
   "outputs": [],
   "source": [
    "def copy_files(src_dir, dest_dir, files):\n",
    "\n",
    "    for filename in files:\n",
    "        source_file = os.path.join(src_dir, filename)\n",
    "        #destination_file = os.path.join(dest_dir, filename)\n",
    "        shutil.copy(source_file, dest_dir)"
   ]
  },
  {
   "cell_type": "code",
   "execution_count": 18,
   "metadata": {},
   "outputs": [],
   "source": [
    "base_dir = \"/Users/aliou/Downloads/huge_projects/aircraft_reco/\""
   ]
  },
  {
   "cell_type": "code",
   "execution_count": 14,
   "metadata": {},
   "outputs": [],
   "source": [
    "source_dir = \"/Users/aliou/Downloads/huge_projects/aircraft_reco/data/images\""
   ]
  },
  {
   "cell_type": "markdown",
   "metadata": {},
   "source": [
    "Copy Boeing 737 files"
   ]
  },
  {
   "cell_type": "code",
   "execution_count": 28,
   "metadata": {},
   "outputs": [],
   "source": [
    "boeing_737_list = ['0227058.jpg',\n",
    "'0950275.jpg',\n",
    "'0114122.jpg',\n",
    "'1754503.jpg',\n",
    "'0127648.jpg',\n",
    "'0225218.jpg',\n",
    "'1713238.jpg',\n",
    "'1295799.jpg',\n",
    "'1455998.jpg',\n",
    "'1102089.jpg',\n",
    "'0067619.jpg',\n",
    "'0713752.jpg',\n",
    "'1361876.jpg',\n",
    "'0704268.jpg',\n",
    "'0494478.jpg',\n",
    "'1398436.jpg',\n",
    "'0037512.jpg',\n",
    "'0698787.jpg',\n",
    "'0875303.jpg',\n",
    "'1831096.jpg',\n",
    "'1565290.jpg',\n",
    "'1297843.jpg',\n",
    "'0694480.jpg',\n",
    "'2054409.jpg',\n",
    "'1860176.jpg',\n",
    "'0075050.jpg',\n",
    "'1110805.jpg',\n",
    "'0702845.jpg',\n",
    "'1471735.jpg',\n",
    "'1395798.jpg',\n",
    "'0880593.jpg',\n",
    "'0062679.jpg',\n",
    "'0198440.jpg',\n",
    "'1258401.jpg',\n",
    "'0448049.jpg',\n",
    "'0357873.jpg',\n",
    "'1196360.jpg',\n",
    "'0218033.jpg',\n",
    "'0395652.jpg',\n",
    "'1320676.jpg',\n",
    "'1100234.jpg',\n",
    "'2067870.jpg',\n",
    "'0681541.jpg',\n",
    "'0133440.jpg',\n",
    "'0218801.jpg',\n",
    "'1298958.jpg',\n",
    "'0746112.jpg',\n",
    "'0953559.jpg',\n",
    "'0545210.jpg',\n",
    "'1043473.jpg',\n",
    "'0894189.jpg',\n",
    "'0447745.jpg',\n",
    "'1682001.jpg',\n",
    "'0522856.jpg',\n",
    "'1456004.jpg',\n",
    "'0460770.jpg',\n",
    "'1115297.jpg',\n",
    "'0653804.jpg',\n",
    "'2221342.jpg',\n",
    "'1363673.jpg',\n",
    "'1352205.jpg',\n",
    "'0882609.jpg',\n",
    "'1446516.jpg',\n",
    "'1615914.jpg',\n",
    "'1958758.jpg',\n",
    "'1810855.jpg',\n",
    "'2126017.jpg',\n",
    "'1891967.jpg',\n",
    "'0076843.jpg',\n",
    "'1119094.jpg',\n",
    "'1606542.jpg',\n",
    "'0923504.jpg',\n",
    "'1080160.jpg',\n",
    "'0979665.jpg',\n",
    "'1483195.jpg',\n",
    "'2217839.jpg',\n",
    "'0075752.jpg',\n",
    "'0807961.jpg',\n",
    "'0195013.jpg',\n",
    "'0682201.jpg',\n",
    "'1163484.jpg',\n",
    "'0063284.jpg',\n",
    "'1506226.jpg',\n",
    "'0973082.jpg',\n",
    "'0176136.jpg',\n",
    "'1163792.jpg',\n",
    "'0237107.jpg',\n",
    "'0523207.jpg',\n",
    "'2007890.jpg',\n",
    "'0066410.jpg',\n",
    "'0558343.jpg',\n",
    "'0218042.jpg',\n",
    "'1382601.jpg',\n",
    "'0482804.jpg',\n",
    "'1115400.jpg',\n",
    "'1696061.jpg',\n",
    "'1559372.jpg',\n",
    "'1879889.jpg',\n",
    "'1237623.jpg',\n",
    "'0851302.jpg']\n",
    "\n",
    "destination_dir = base_dir + \"final_data/train/Boeing_737\""
   ]
  },
  {
   "cell_type": "code",
   "execution_count": 20,
   "metadata": {},
   "outputs": [],
   "source": [
    "#copy_files(source_dir, destination_dir, boeing_737_list)"
   ]
  },
  {
   "cell_type": "markdown",
   "metadata": {},
   "source": [
    "Boeing 747"
   ]
  },
  {
   "cell_type": "code",
   "execution_count": 34,
   "metadata": {},
   "outputs": [],
   "source": [
    "boeing_747_list = []"
   ]
  },
  {
   "cell_type": "code",
   "execution_count": 41,
   "metadata": {},
   "outputs": [],
   "source": [
    "def make_plane_list(file, list):\n",
    "\n",
    "    with open(file) as f:\n",
    "\n",
    "        lines = f.readlines()\n",
    "        \n",
    "        for line in lines:\n",
    "            aircraft = string = re.sub(r\"\\s\", \"\", line)\n",
    "            list.append(aircraft + '.jpg')"
   ]
  },
  {
   "cell_type": "code",
   "execution_count": 38,
   "metadata": {},
   "outputs": [],
   "source": [
    "destination_dir = base_dir + \"final_data/train/Boeing_747\""
   ]
  },
  {
   "cell_type": "code",
   "execution_count": 40,
   "metadata": {},
   "outputs": [],
   "source": [
    "#copy_files(source_dir, destination_dir, boeing_747_list)"
   ]
  },
  {
   "cell_type": "markdown",
   "metadata": {},
   "source": [
    "Boeing 777"
   ]
  },
  {
   "cell_type": "code",
   "execution_count": 42,
   "metadata": {},
   "outputs": [],
   "source": [
    "boeing_777_list = []"
   ]
  },
  {
   "cell_type": "code",
   "execution_count": 45,
   "metadata": {},
   "outputs": [],
   "source": [
    "destination_dir = base_dir +  \"final_data/train/Boeing_777\""
   ]
  },
  {
   "cell_type": "code",
   "execution_count": 43,
   "metadata": {},
   "outputs": [],
   "source": [
    "make_plane_list('b_777.txt', boeing_777_list)"
   ]
  },
  {
   "cell_type": "code",
   "execution_count": 46,
   "metadata": {},
   "outputs": [],
   "source": [
    "#copy_files(source_dir, destination_dir, boeing_777_list)"
   ]
  },
  {
   "cell_type": "markdown",
   "metadata": {},
   "source": [
    "Airbus A320"
   ]
  },
  {
   "cell_type": "code",
   "execution_count": 47,
   "metadata": {},
   "outputs": [],
   "source": [
    "airbus_320_list = []\n",
    "destination_dir = base_dir + \"final_data/train/Airbus_320\""
   ]
  },
  {
   "cell_type": "code",
   "execution_count": 48,
   "metadata": {},
   "outputs": [],
   "source": [
    "make_plane_list('a_320.txt', airbus_320_list)"
   ]
  },
  {
   "cell_type": "code",
   "execution_count": 50,
   "metadata": {},
   "outputs": [],
   "source": [
    "#copy_files(source_dir, destination_dir, airbus_320_list)"
   ]
  },
  {
   "cell_type": "markdown",
   "metadata": {},
   "source": [
    "Airbus A330"
   ]
  },
  {
   "cell_type": "code",
   "execution_count": 51,
   "metadata": {},
   "outputs": [],
   "source": [
    "airbus_330_list = []\n",
    "destination_dir = base_dir + \"final_data/train/Airbus_330\""
   ]
  },
  {
   "cell_type": "code",
   "execution_count": 52,
   "metadata": {},
   "outputs": [],
   "source": [
    "make_plane_list('a_330.txt', airbus_330_list)"
   ]
  },
  {
   "cell_type": "code",
   "execution_count": 53,
   "metadata": {},
   "outputs": [],
   "source": [
    "#copy_files(source_dir, destination_dir, airbus_330_list)"
   ]
  },
  {
   "cell_type": "markdown",
   "metadata": {},
   "source": [
    "Airbus A340"
   ]
  },
  {
   "cell_type": "code",
   "execution_count": 54,
   "metadata": {},
   "outputs": [],
   "source": [
    "airbus_340_list = []\n",
    "destination_dir = base_dir + \"final_data/train/Airbus_340\""
   ]
  },
  {
   "cell_type": "code",
   "execution_count": 55,
   "metadata": {},
   "outputs": [],
   "source": [
    "make_plane_list('a_340.txt', airbus_340_list)"
   ]
  },
  {
   "cell_type": "code",
   "execution_count": 56,
   "metadata": {},
   "outputs": [],
   "source": [
    "#copy_files(source_dir, destination_dir, airbus_340_list)"
   ]
  },
  {
   "cell_type": "markdown",
   "metadata": {},
   "source": [
    "Airbus A380"
   ]
  },
  {
   "cell_type": "code",
   "execution_count": 57,
   "metadata": {},
   "outputs": [],
   "source": [
    "airbus_380_list = []\n",
    "destination_dir = base_dir + \"final_data/train/Airbus_380\""
   ]
  },
  {
   "cell_type": "code",
   "execution_count": 58,
   "metadata": {},
   "outputs": [],
   "source": [
    "make_plane_list('a_380.txt', airbus_380_list)"
   ]
  },
  {
   "cell_type": "code",
   "execution_count": 59,
   "metadata": {},
   "outputs": [],
   "source": [
    "#copy_files(source_dir, destination_dir, airbus_380_list)"
   ]
  }
 ],
 "metadata": {
  "kernelspec": {
   "display_name": "base",
   "language": "python",
   "name": "python3"
  },
  "language_info": {
   "codemirror_mode": {
    "name": "ipython",
    "version": 3
   },
   "file_extension": ".py",
   "mimetype": "text/x-python",
   "name": "python",
   "nbconvert_exporter": "python",
   "pygments_lexer": "ipython3",
   "version": "3.11.5"
  }
 },
 "nbformat": 4,
 "nbformat_minor": 2
}
